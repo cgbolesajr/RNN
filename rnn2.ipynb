{
 "cells": [
  {
   "cell_type": "code",
   "execution_count": 1,
   "metadata": {},
   "outputs": [],
   "source": [
    "import numpy as np\n",
    "import matplotlib.pyplot as plt\n",
    "import pandas as pd"
   ]
  },
  {
   "cell_type": "code",
   "execution_count": 2,
   "metadata": {},
   "outputs": [],
   "source": [
    "dataset_train = pd.read_csv('d:/jupyter/datasets/Google_Stock_Price_Train.csv')\n",
    "training_set = dataset_train.iloc[:, 1:2].values"
   ]
  },
  {
   "cell_type": "code",
   "execution_count": 19,
   "metadata": {},
   "outputs": [
    {
     "data": {
      "text/html": [
       "<div>\n",
       "<style scoped>\n",
       "    .dataframe tbody tr th:only-of-type {\n",
       "        vertical-align: middle;\n",
       "    }\n",
       "\n",
       "    .dataframe tbody tr th {\n",
       "        vertical-align: top;\n",
       "    }\n",
       "\n",
       "    .dataframe thead th {\n",
       "        text-align: right;\n",
       "    }\n",
       "</style>\n",
       "<table border=\"1\" class=\"dataframe\">\n",
       "  <thead>\n",
       "    <tr style=\"text-align: right;\">\n",
       "      <th></th>\n",
       "      <th>Date</th>\n",
       "      <th>Open</th>\n",
       "      <th>High</th>\n",
       "      <th>Low</th>\n",
       "      <th>Close</th>\n",
       "      <th>Volume</th>\n",
       "    </tr>\n",
       "  </thead>\n",
       "  <tbody>\n",
       "    <tr>\n",
       "      <th>0</th>\n",
       "      <td>1/3/2012</td>\n",
       "      <td>325.25</td>\n",
       "      <td>332.83</td>\n",
       "      <td>324.97</td>\n",
       "      <td>663.59</td>\n",
       "      <td>7,380,500</td>\n",
       "    </tr>\n",
       "    <tr>\n",
       "      <th>1</th>\n",
       "      <td>1/4/2012</td>\n",
       "      <td>331.27</td>\n",
       "      <td>333.87</td>\n",
       "      <td>329.08</td>\n",
       "      <td>666.45</td>\n",
       "      <td>5,749,400</td>\n",
       "    </tr>\n",
       "    <tr>\n",
       "      <th>2</th>\n",
       "      <td>1/5/2012</td>\n",
       "      <td>329.83</td>\n",
       "      <td>330.75</td>\n",
       "      <td>326.89</td>\n",
       "      <td>657.21</td>\n",
       "      <td>6,590,300</td>\n",
       "    </tr>\n",
       "    <tr>\n",
       "      <th>3</th>\n",
       "      <td>1/6/2012</td>\n",
       "      <td>328.34</td>\n",
       "      <td>328.77</td>\n",
       "      <td>323.68</td>\n",
       "      <td>648.24</td>\n",
       "      <td>5,405,900</td>\n",
       "    </tr>\n",
       "    <tr>\n",
       "      <th>4</th>\n",
       "      <td>1/9/2012</td>\n",
       "      <td>322.04</td>\n",
       "      <td>322.29</td>\n",
       "      <td>309.46</td>\n",
       "      <td>620.76</td>\n",
       "      <td>11,688,800</td>\n",
       "    </tr>\n",
       "  </tbody>\n",
       "</table>\n",
       "</div>"
      ],
      "text/plain": [
       "       Date    Open    High     Low   Close      Volume\n",
       "0  1/3/2012  325.25  332.83  324.97  663.59   7,380,500\n",
       "1  1/4/2012  331.27  333.87  329.08  666.45   5,749,400\n",
       "2  1/5/2012  329.83  330.75  326.89  657.21   6,590,300\n",
       "3  1/6/2012  328.34  328.77  323.68  648.24   5,405,900\n",
       "4  1/9/2012  322.04  322.29  309.46  620.76  11,688,800"
      ]
     },
     "execution_count": 19,
     "metadata": {},
     "output_type": "execute_result"
    }
   ],
   "source": [
    "dataset_train[:5]"
   ]
  },
  {
   "cell_type": "code",
   "execution_count": 3,
   "metadata": {},
   "outputs": [
    {
     "data": {
      "text/plain": [
       "pandas.core.frame.DataFrame"
      ]
     },
     "execution_count": 3,
     "metadata": {},
     "output_type": "execute_result"
    }
   ],
   "source": [
    "type(dataset_train)"
   ]
  },
  {
   "cell_type": "code",
   "execution_count": 4,
   "metadata": {},
   "outputs": [
    {
     "data": {
      "text/plain": [
       "numpy.ndarray"
      ]
     },
     "execution_count": 4,
     "metadata": {},
     "output_type": "execute_result"
    }
   ],
   "source": [
    "type(training_set)"
   ]
  },
  {
   "cell_type": "code",
   "execution_count": 5,
   "metadata": {},
   "outputs": [],
   "source": [
    "from sklearn.preprocessing import MinMaxScaler\n",
    "sc = MinMaxScaler(feature_range = (0, 1))\n",
    "training_set_scaled = sc.fit_transform(training_set)"
   ]
  },
  {
   "cell_type": "code",
   "execution_count": 6,
   "metadata": {},
   "outputs": [],
   "source": [
    "X_train = []\n",
    "y_train = []\n",
    "for i in range(60, 1258):\n",
    "    X_train.append(training_set_scaled[i-60:i, 0])\n",
    "    y_train.append(training_set_scaled[i, 0])\n",
    "X_train, y_train = np.array(X_train), np.array(y_train)\n"
   ]
  },
  {
   "cell_type": "code",
   "execution_count": 7,
   "metadata": {},
   "outputs": [
    {
     "data": {
      "text/plain": [
       "numpy.ndarray"
      ]
     },
     "execution_count": 7,
     "metadata": {},
     "output_type": "execute_result"
    }
   ],
   "source": [
    "type(X_train)"
   ]
  },
  {
   "cell_type": "code",
   "execution_count": 8,
   "metadata": {},
   "outputs": [],
   "source": [
    "X_train = np.reshape(X_train, (X_train.shape[0], X_train.shape[1], 1))"
   ]
  },
  {
   "cell_type": "code",
   "execution_count": 9,
   "metadata": {},
   "outputs": [
    {
     "data": {
      "text/plain": [
       "(1198, 60, 1)"
      ]
     },
     "execution_count": 9,
     "metadata": {},
     "output_type": "execute_result"
    }
   ],
   "source": [
    "X_train.shape"
   ]
  },
  {
   "cell_type": "markdown",
   "metadata": {},
   "source": [
    "# building RNN"
   ]
  },
  {
   "cell_type": "code",
   "execution_count": 10,
   "metadata": {},
   "outputs": [],
   "source": [
    "from keras.models import Sequential\n",
    "from keras.layers import Dense\n",
    "from keras.layers import LSTM\n",
    "from keras.layers import Dropout"
   ]
  },
  {
   "cell_type": "code",
   "execution_count": 11,
   "metadata": {},
   "outputs": [],
   "source": [
    "regressor = Sequential([\n",
    "\n",
    "    LSTM(units=50, return_sequences=True, input_shape=(X_train.shape[1], 1)),\n",
    "    Dropout(0.2),\n",
    "\n",
    "    LSTM(units=50, return_sequences=True),   # return sequence: if you want to add another lstm layer\n",
    "    Dropout(0.2),\n",
    "\n",
    "    LSTM(units=50, return_sequences=True),\n",
    "    Dropout(0.2),                               # 20% of the neurons will be ignored\n",
    "\n",
    "    LSTM(units=50),\n",
    "    Dropout(0.2),\n",
    "\n",
    "    Dense(units=1)\n",
    "\n",
    "])\n"
   ]
  },
  {
   "cell_type": "code",
   "execution_count": 12,
   "metadata": {},
   "outputs": [],
   "source": [
    "regressor.compile(\n",
    "    optimizer='adam',\n",
    "    loss='mean_squared_error',\n",
    "    metrics= ['accuracy']\n",
    ")"
   ]
  },
  {
   "cell_type": "code",
   "execution_count": 13,
   "metadata": {},
   "outputs": [
    {
     "name": "stdout",
     "output_type": "stream",
     "text": [
      "Epoch 1/100\n",
      "38/38 - 15s - loss: 0.0424 - accuracy: 0.0017 - 15s/epoch - 385ms/step\n",
      "Epoch 2/100\n",
      "38/38 - 1s - loss: 0.0079 - accuracy: 0.0017 - 750ms/epoch - 20ms/step\n",
      "Epoch 3/100\n",
      "38/38 - 1s - loss: 0.0053 - accuracy: 0.0017 - 736ms/epoch - 19ms/step\n",
      "Epoch 4/100\n",
      "38/38 - 1s - loss: 0.0054 - accuracy: 0.0017 - 732ms/epoch - 19ms/step\n",
      "Epoch 5/100\n",
      "38/38 - 1s - loss: 0.0046 - accuracy: 0.0017 - 729ms/epoch - 19ms/step\n",
      "Epoch 6/100\n",
      "38/38 - 1s - loss: 0.0048 - accuracy: 0.0017 - 728ms/epoch - 19ms/step\n",
      "Epoch 7/100\n",
      "38/38 - 1s - loss: 0.0054 - accuracy: 0.0017 - 739ms/epoch - 19ms/step\n",
      "Epoch 8/100\n",
      "38/38 - 1s - loss: 0.0042 - accuracy: 0.0017 - 760ms/epoch - 20ms/step\n",
      "Epoch 9/100\n",
      "38/38 - 1s - loss: 0.0046 - accuracy: 0.0017 - 774ms/epoch - 20ms/step\n",
      "Epoch 10/100\n",
      "38/38 - 1s - loss: 0.0046 - accuracy: 0.0017 - 760ms/epoch - 20ms/step\n",
      "Epoch 11/100\n",
      "38/38 - 1s - loss: 0.0045 - accuracy: 0.0017 - 744ms/epoch - 20ms/step\n",
      "Epoch 12/100\n",
      "38/38 - 1s - loss: 0.0044 - accuracy: 0.0017 - 745ms/epoch - 20ms/step\n",
      "Epoch 13/100\n",
      "38/38 - 1s - loss: 0.0040 - accuracy: 0.0017 - 748ms/epoch - 20ms/step\n",
      "Epoch 14/100\n",
      "38/38 - 1s - loss: 0.0044 - accuracy: 0.0017 - 746ms/epoch - 20ms/step\n",
      "Epoch 15/100\n",
      "38/38 - 1s - loss: 0.0041 - accuracy: 0.0017 - 753ms/epoch - 20ms/step\n",
      "Epoch 16/100\n",
      "38/38 - 1s - loss: 0.0040 - accuracy: 0.0017 - 792ms/epoch - 21ms/step\n",
      "Epoch 17/100\n",
      "38/38 - 1s - loss: 0.0039 - accuracy: 0.0017 - 757ms/epoch - 20ms/step\n",
      "Epoch 18/100\n",
      "38/38 - 1s - loss: 0.0036 - accuracy: 0.0017 - 746ms/epoch - 20ms/step\n",
      "Epoch 19/100\n",
      "38/38 - 1s - loss: 0.0038 - accuracy: 0.0017 - 754ms/epoch - 20ms/step\n",
      "Epoch 20/100\n",
      "38/38 - 1s - loss: 0.0037 - accuracy: 0.0017 - 791ms/epoch - 21ms/step\n",
      "Epoch 21/100\n",
      "38/38 - 1s - loss: 0.0033 - accuracy: 0.0017 - 826ms/epoch - 22ms/step\n",
      "Epoch 22/100\n",
      "38/38 - 1s - loss: 0.0034 - accuracy: 0.0017 - 823ms/epoch - 22ms/step\n",
      "Epoch 23/100\n",
      "38/38 - 1s - loss: 0.0035 - accuracy: 0.0017 - 802ms/epoch - 21ms/step\n",
      "Epoch 24/100\n",
      "38/38 - 1s - loss: 0.0032 - accuracy: 0.0017 - 789ms/epoch - 21ms/step\n",
      "Epoch 25/100\n",
      "38/38 - 1s - loss: 0.0031 - accuracy: 0.0017 - 753ms/epoch - 20ms/step\n",
      "Epoch 26/100\n",
      "38/38 - 1s - loss: 0.0031 - accuracy: 0.0017 - 744ms/epoch - 20ms/step\n",
      "Epoch 27/100\n",
      "38/38 - 1s - loss: 0.0032 - accuracy: 0.0017 - 751ms/epoch - 20ms/step\n",
      "Epoch 28/100\n",
      "38/38 - 1s - loss: 0.0032 - accuracy: 0.0017 - 754ms/epoch - 20ms/step\n",
      "Epoch 29/100\n",
      "38/38 - 1s - loss: 0.0030 - accuracy: 0.0017 - 782ms/epoch - 21ms/step\n",
      "Epoch 30/100\n",
      "38/38 - 1s - loss: 0.0030 - accuracy: 0.0017 - 762ms/epoch - 20ms/step\n",
      "Epoch 31/100\n",
      "38/38 - 1s - loss: 0.0034 - accuracy: 0.0017 - 770ms/epoch - 20ms/step\n",
      "Epoch 32/100\n",
      "38/38 - 1s - loss: 0.0028 - accuracy: 0.0017 - 758ms/epoch - 20ms/step\n",
      "Epoch 33/100\n",
      "38/38 - 1s - loss: 0.0028 - accuracy: 0.0017 - 749ms/epoch - 20ms/step\n",
      "Epoch 34/100\n",
      "38/38 - 1s - loss: 0.0027 - accuracy: 0.0017 - 751ms/epoch - 20ms/step\n",
      "Epoch 35/100\n",
      "38/38 - 1s - loss: 0.0030 - accuracy: 0.0017 - 775ms/epoch - 20ms/step\n",
      "Epoch 36/100\n",
      "38/38 - 1s - loss: 0.0029 - accuracy: 0.0017 - 758ms/epoch - 20ms/step\n",
      "Epoch 37/100\n",
      "38/38 - 1s - loss: 0.0030 - accuracy: 0.0017 - 739ms/epoch - 19ms/step\n",
      "Epoch 38/100\n",
      "38/38 - 1s - loss: 0.0027 - accuracy: 0.0017 - 747ms/epoch - 20ms/step\n",
      "Epoch 39/100\n",
      "38/38 - 1s - loss: 0.0028 - accuracy: 0.0017 - 749ms/epoch - 20ms/step\n",
      "Epoch 40/100\n",
      "38/38 - 1s - loss: 0.0028 - accuracy: 0.0017 - 751ms/epoch - 20ms/step\n",
      "Epoch 41/100\n",
      "38/38 - 1s - loss: 0.0024 - accuracy: 0.0017 - 1s/epoch - 32ms/step\n",
      "Epoch 42/100\n",
      "38/38 - 1s - loss: 0.0029 - accuracy: 0.0017 - 1s/epoch - 38ms/step\n",
      "Epoch 43/100\n",
      "38/38 - 1s - loss: 0.0027 - accuracy: 0.0017 - 1s/epoch - 31ms/step\n",
      "Epoch 44/100\n",
      "38/38 - 1s - loss: 0.0026 - accuracy: 0.0017 - 736ms/epoch - 19ms/step\n",
      "Epoch 45/100\n",
      "38/38 - 1s - loss: 0.0030 - accuracy: 0.0017 - 740ms/epoch - 19ms/step\n",
      "Epoch 46/100\n",
      "38/38 - 1s - loss: 0.0023 - accuracy: 0.0017 - 734ms/epoch - 19ms/step\n",
      "Epoch 47/100\n",
      "38/38 - 1s - loss: 0.0024 - accuracy: 0.0017 - 728ms/epoch - 19ms/step\n",
      "Epoch 48/100\n",
      "38/38 - 1s - loss: 0.0025 - accuracy: 0.0017 - 1s/epoch - 31ms/step\n",
      "Epoch 49/100\n",
      "38/38 - 1s - loss: 0.0025 - accuracy: 0.0017 - 1s/epoch - 36ms/step\n",
      "Epoch 50/100\n",
      "38/38 - 1s - loss: 0.0025 - accuracy: 0.0017 - 1s/epoch - 32ms/step\n",
      "Epoch 51/100\n",
      "38/38 - 1s - loss: 0.0026 - accuracy: 0.0017 - 744ms/epoch - 20ms/step\n",
      "Epoch 52/100\n",
      "38/38 - 1s - loss: 0.0024 - accuracy: 0.0017 - 727ms/epoch - 19ms/step\n",
      "Epoch 53/100\n",
      "38/38 - 1s - loss: 0.0026 - accuracy: 0.0017 - 827ms/epoch - 22ms/step\n",
      "Epoch 54/100\n",
      "38/38 - 1s - loss: 0.0023 - accuracy: 0.0017 - 1s/epoch - 37ms/step\n",
      "Epoch 55/100\n",
      "38/38 - 2s - loss: 0.0023 - accuracy: 0.0017 - 2s/epoch - 40ms/step\n",
      "Epoch 56/100\n",
      "38/38 - 1s - loss: 0.0023 - accuracy: 0.0017 - 930ms/epoch - 24ms/step\n",
      "Epoch 57/100\n",
      "38/38 - 1s - loss: 0.0023 - accuracy: 0.0017 - 758ms/epoch - 20ms/step\n",
      "Epoch 58/100\n",
      "38/38 - 1s - loss: 0.0023 - accuracy: 0.0017 - 766ms/epoch - 20ms/step\n",
      "Epoch 59/100\n",
      "38/38 - 1s - loss: 0.0023 - accuracy: 0.0017 - 1s/epoch - 37ms/step\n",
      "Epoch 60/100\n",
      "38/38 - 2s - loss: 0.0023 - accuracy: 0.0017 - 2s/epoch - 42ms/step\n",
      "Epoch 61/100\n",
      "38/38 - 2s - loss: 0.0023 - accuracy: 0.0017 - 2s/epoch - 41ms/step\n",
      "Epoch 62/100\n",
      "38/38 - 1s - loss: 0.0021 - accuracy: 0.0017 - 774ms/epoch - 20ms/step\n",
      "Epoch 63/100\n",
      "38/38 - 1s - loss: 0.0024 - accuracy: 0.0017 - 748ms/epoch - 20ms/step\n",
      "Epoch 64/100\n",
      "38/38 - 1s - loss: 0.0023 - accuracy: 0.0017 - 784ms/epoch - 21ms/step\n",
      "Epoch 65/100\n",
      "38/38 - 2s - loss: 0.0021 - accuracy: 0.0017 - 2s/epoch - 41ms/step\n",
      "Epoch 66/100\n",
      "38/38 - 1s - loss: 0.0019 - accuracy: 0.0017 - 1s/epoch - 38ms/step\n",
      "Epoch 67/100\n",
      "38/38 - 1s - loss: 0.0020 - accuracy: 0.0017 - 1s/epoch - 39ms/step\n",
      "Epoch 68/100\n",
      "38/38 - 2s - loss: 0.0020 - accuracy: 0.0017 - 2s/epoch - 40ms/step\n",
      "Epoch 69/100\n",
      "38/38 - 2s - loss: 0.0018 - accuracy: 0.0017 - 2s/epoch - 42ms/step\n",
      "Epoch 70/100\n",
      "38/38 - 1s - loss: 0.0017 - accuracy: 0.0017 - 910ms/epoch - 24ms/step\n",
      "Epoch 71/100\n",
      "38/38 - 1s - loss: 0.0019 - accuracy: 0.0017 - 784ms/epoch - 21ms/step\n",
      "Epoch 72/100\n",
      "38/38 - 1s - loss: 0.0021 - accuracy: 0.0017 - 874ms/epoch - 23ms/step\n",
      "Epoch 73/100\n",
      "38/38 - 2s - loss: 0.0018 - accuracy: 0.0017 - 2s/epoch - 46ms/step\n",
      "Epoch 74/100\n",
      "38/38 - 2s - loss: 0.0017 - accuracy: 0.0017 - 2s/epoch - 43ms/step\n",
      "Epoch 75/100\n",
      "38/38 - 2s - loss: 0.0018 - accuracy: 0.0017 - 2s/epoch - 42ms/step\n",
      "Epoch 76/100\n",
      "38/38 - 2s - loss: 0.0020 - accuracy: 0.0017 - 2s/epoch - 47ms/step\n",
      "Epoch 77/100\n",
      "38/38 - 2s - loss: 0.0018 - accuracy: 0.0017 - 2s/epoch - 44ms/step\n",
      "Epoch 78/100\n",
      "38/38 - 2s - loss: 0.0018 - accuracy: 0.0017 - 2s/epoch - 40ms/step\n",
      "Epoch 79/100\n",
      "38/38 - 1s - loss: 0.0017 - accuracy: 0.0017 - 1s/epoch - 37ms/step\n",
      "Epoch 80/100\n",
      "38/38 - 1s - loss: 0.0018 - accuracy: 0.0017 - 758ms/epoch - 20ms/step\n",
      "Epoch 81/100\n",
      "38/38 - 1s - loss: 0.0017 - accuracy: 0.0017 - 741ms/epoch - 20ms/step\n",
      "Epoch 82/100\n",
      "38/38 - 1s - loss: 0.0019 - accuracy: 0.0017 - 874ms/epoch - 23ms/step\n",
      "Epoch 83/100\n",
      "38/38 - 1s - loss: 0.0016 - accuracy: 0.0017 - 1s/epoch - 38ms/step\n",
      "Epoch 84/100\n",
      "38/38 - 2s - loss: 0.0017 - accuracy: 0.0017 - 2s/epoch - 41ms/step\n",
      "Epoch 85/100\n",
      "38/38 - 1s - loss: 0.0015 - accuracy: 0.0017 - 1s/epoch - 39ms/step\n",
      "Epoch 86/100\n",
      "38/38 - 1s - loss: 0.0016 - accuracy: 0.0017 - 1s/epoch - 38ms/step\n",
      "Epoch 87/100\n",
      "38/38 - 2s - loss: 0.0015 - accuracy: 0.0017 - 2s/epoch - 41ms/step\n",
      "Epoch 88/100\n",
      "38/38 - 1s - loss: 0.0016 - accuracy: 0.0017 - 1s/epoch - 39ms/step\n",
      "Epoch 89/100\n",
      "38/38 - 1s - loss: 0.0016 - accuracy: 0.0017 - 1s/epoch - 32ms/step\n",
      "Epoch 90/100\n",
      "38/38 - 1s - loss: 0.0017 - accuracy: 0.0017 - 737ms/epoch - 19ms/step\n",
      "Epoch 91/100\n",
      "38/38 - 1s - loss: 0.0017 - accuracy: 0.0017 - 744ms/epoch - 20ms/step\n",
      "Epoch 92/100\n",
      "38/38 - 1s - loss: 0.0016 - accuracy: 0.0017 - 1s/epoch - 26ms/step\n",
      "Epoch 93/100\n",
      "38/38 - 2s - loss: 0.0015 - accuracy: 0.0017 - 2s/epoch - 40ms/step\n",
      "Epoch 94/100\n",
      "38/38 - 2s - loss: 0.0016 - accuracy: 0.0017 - 2s/epoch - 43ms/step\n",
      "Epoch 95/100\n",
      "38/38 - 2s - loss: 0.0014 - accuracy: 0.0017 - 2s/epoch - 42ms/step\n",
      "Epoch 96/100\n",
      "38/38 - 1s - loss: 0.0016 - accuracy: 0.0017 - 1s/epoch - 38ms/step\n",
      "Epoch 97/100\n",
      "38/38 - 1s - loss: 0.0014 - accuracy: 0.0017 - 1s/epoch - 36ms/step\n",
      "Epoch 98/100\n",
      "38/38 - 1s - loss: 0.0015 - accuracy: 0.0017 - 1s/epoch - 37ms/step\n",
      "Epoch 99/100\n",
      "38/38 - 1s - loss: 0.0015 - accuracy: 0.0017 - 1s/epoch - 31ms/step\n",
      "Epoch 100/100\n",
      "38/38 - 1s - loss: 0.0015 - accuracy: 0.0017 - 743ms/epoch - 20ms/step\n"
     ]
    },
    {
     "data": {
      "text/plain": [
       "<keras.callbacks.History at 0x1bcb12ccd90>"
      ]
     },
     "execution_count": 13,
     "metadata": {},
     "output_type": "execute_result"
    }
   ],
   "source": [
    "regressor.fit(X_train, y_train, batch_size=32, epochs=100, verbose=2)"
   ]
  },
  {
   "cell_type": "code",
   "execution_count": 14,
   "metadata": {},
   "outputs": [],
   "source": [
    "dataset_test = pd.read_csv('d:/jupyter/datasets/Google_Stock_Price_Test.csv')\n",
    "real_stock_price = dataset_test.iloc[:, 1:2].values\n"
   ]
  },
  {
   "cell_type": "code",
   "execution_count": 15,
   "metadata": {},
   "outputs": [],
   "source": [
    "dataset_total = pd.concat((dataset_train['Open'], dataset_test['Open']), axis=0)\n",
    "inputs = dataset_total[len(dataset_total) - len(dataset_test) - 60:].values\n",
    "inputs = inputs.reshape(-1, 1)\n",
    "inputs = sc.transform(inputs)\n",
    "\n",
    "X_test = []\n",
    "for i in range(60, 80):          # 80 is only 20 financial days ---> 60 + 20\n",
    "    X_test.append(inputs[i-60:i, 0])\n",
    "X_test = np.array(X_test)\n",
    "X_test = np.reshape(X_test, (X_test.shape[0], X_test.shape[1], 1))\n",
    "\n",
    "\n",
    "predicted_stock_price = regressor.predict(X_test)\n",
    "predicted_stock_price = sc.inverse_transform(predicted_stock_price)\n"
   ]
  },
  {
   "cell_type": "code",
   "execution_count": 18,
   "metadata": {},
   "outputs": [
    {
     "data": {
      "text/plain": [
       "array([[766.8036 ],\n",
       "       [764.2168 ],\n",
       "       [763.65576],\n",
       "       [764.5268 ],\n",
       "       [767.3115 ]], dtype=float32)"
      ]
     },
     "execution_count": 18,
     "metadata": {},
     "output_type": "execute_result"
    }
   ],
   "source": [
    "predicted_stock_price[:5]\n"
   ]
  },
  {
   "cell_type": "code",
   "execution_count": 17,
   "metadata": {},
   "outputs": [
    {
     "data": {
      "image/png": "[encoded data removed]",
      "text/plain": [
       "<Figure size 432x288 with 1 Axes>"
      ]
     },
     "metadata": {
      "needs_background": "light"
     },
     "output_type": "display_data"
    }
   ],
   "source": [
    "plt.plot(real_stock_price, color = 'red', label = 'Real Google Stock Price')\n",
    "plt.plot(predicted_stock_price, color = 'blue', label = 'Predicted Google Stock Price')\n",
    "plt.title('Google Stock Price Prediction')\n",
    "plt.xlabel('Time')\n",
    "plt.ylabel('Google Stock Price')\n",
    "plt.legend()\n",
    "plt.show()"
   ]
  }
 ],
 "metadata": {
  "interpreter": {
   "hash": "915239b2a62684a5a3e4e607407e5d5a9c1dbac6ab3d1309d0fc17d05690facd"
  },
  "kernelspec": {
   "display_name": "Python 3.9.7 64-bit ('flask': conda)",
   "language": "python",
   "name": "python3"
  },
  "language_info": {
   "codemirror_mode": {
    "name": "ipython",
    "version": 3
   },
   "file_extension": ".py",
   "mimetype": "text/x-python",
   "name": "python",
   "nbconvert_exporter": "python",
   "pygments_lexer": "ipython3",
   "version": "3.9.7"
  },
  "orig_nbformat": 4
 },
 "nbformat": 4,
 "nbformat_minor": 2
}
