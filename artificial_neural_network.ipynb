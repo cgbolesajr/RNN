{
  "cells": [
    {
      "cell_type": "markdown",
      "metadata": {
        "colab_type": "text",
        "id": "lP6JLo1tGNBg"
      },
      "source": [
        "# Artificial Neural Network"
      ]
    },
    {
      "cell_type": "markdown",
      "metadata": {
        "colab_type": "text",
        "id": "gWZyYmS_UE_L"
      },
      "source": [
        "### Importing the libraries"
      ]
    },
    {
      "cell_type": "code",
      "execution_count": 1,
      "metadata": {},
      "outputs": [],
      "source": [
        "import numpy as np\n",
        "import pandas as pd\n",
        "import tensorflow as tf"
      ]
    },
    {
      "cell_type": "code",
      "execution_count": 2,
      "metadata": {},
      "outputs": [
        {
          "data": {
            "text/plain": [
              "'2.7.0'"
            ]
          },
          "execution_count": 2,
          "metadata": {},
          "output_type": "execute_result"
        }
      ],
      "source": [
        "tf.__version__"
      ]
    },
    {
      "cell_type": "markdown",
      "metadata": {
        "colab_type": "text",
        "id": "1E0Q3aoKUCRX"
      },
      "source": [
        "## Part 1 - Data Preprocessing"
      ]
    },
    {
      "cell_type": "markdown",
      "metadata": {
        "colab_type": "text",
        "id": "cKWAkFVGUU0Z"
      },
      "source": [
        "### Importing the dataset"
      ]
    },
    {
      "cell_type": "code",
      "execution_count": 3,
      "metadata": {},
      "outputs": [
        {
          "data": {
            "text/html": [
              "<div>\n",
              "<style scoped>\n",
              "    .dataframe tbody tr th:only-of-type {\n",
              "        vertical-align: middle;\n",
              "    }\n",
              "\n",
              "    .dataframe tbody tr th {\n",
              "        vertical-align: top;\n",
              "    }\n",
              "\n",
              "    .dataframe thead th {\n",
              "        text-align: right;\n",
              "    }\n",
              "</style>\n",
              "<table border=\"1\" class=\"dataframe\">\n",
              "  <thead>\n",
              "    <tr style=\"text-align: right;\">\n",
              "      <th></th>\n",
              "      <th>RowNumber</th>\n",
              "      <th>CustomerId</th>\n",
              "      <th>Surname</th>\n",
              "      <th>CreditScore</th>\n",
              "      <th>Geography</th>\n",
              "      <th>Gender</th>\n",
              "      <th>Age</th>\n",
              "      <th>Tenure</th>\n",
              "      <th>Balance</th>\n",
              "      <th>NumOfProducts</th>\n",
              "      <th>HasCrCard</th>\n",
              "      <th>IsActiveMember</th>\n",
              "      <th>EstimatedSalary</th>\n",
              "      <th>Exited</th>\n",
              "    </tr>\n",
              "  </thead>\n",
              "  <tbody>\n",
              "    <tr>\n",
              "      <th>0</th>\n",
              "      <td>1</td>\n",
              "      <td>15634602</td>\n",
              "      <td>Hargrave</td>\n",
              "      <td>619</td>\n",
              "      <td>France</td>\n",
              "      <td>Female</td>\n",
              "      <td>42</td>\n",
              "      <td>2</td>\n",
              "      <td>0.00</td>\n",
              "      <td>1</td>\n",
              "      <td>1</td>\n",
              "      <td>1</td>\n",
              "      <td>101348.88</td>\n",
              "      <td>1</td>\n",
              "    </tr>\n",
              "    <tr>\n",
              "      <th>1</th>\n",
              "      <td>2</td>\n",
              "      <td>15647311</td>\n",
              "      <td>Hill</td>\n",
              "      <td>608</td>\n",
              "      <td>Spain</td>\n",
              "      <td>Female</td>\n",
              "      <td>41</td>\n",
              "      <td>1</td>\n",
              "      <td>83807.86</td>\n",
              "      <td>1</td>\n",
              "      <td>0</td>\n",
              "      <td>1</td>\n",
              "      <td>112542.58</td>\n",
              "      <td>0</td>\n",
              "    </tr>\n",
              "    <tr>\n",
              "      <th>2</th>\n",
              "      <td>3</td>\n",
              "      <td>15619304</td>\n",
              "      <td>Onio</td>\n",
              "      <td>502</td>\n",
              "      <td>France</td>\n",
              "      <td>Female</td>\n",
              "      <td>42</td>\n",
              "      <td>8</td>\n",
              "      <td>159660.80</td>\n",
              "      <td>3</td>\n",
              "      <td>1</td>\n",
              "      <td>0</td>\n",
              "      <td>113931.57</td>\n",
              "      <td>1</td>\n",
              "    </tr>\n",
              "    <tr>\n",
              "      <th>3</th>\n",
              "      <td>4</td>\n",
              "      <td>15701354</td>\n",
              "      <td>Boni</td>\n",
              "      <td>699</td>\n",
              "      <td>France</td>\n",
              "      <td>Female</td>\n",
              "      <td>39</td>\n",
              "      <td>1</td>\n",
              "      <td>0.00</td>\n",
              "      <td>2</td>\n",
              "      <td>0</td>\n",
              "      <td>0</td>\n",
              "      <td>93826.63</td>\n",
              "      <td>0</td>\n",
              "    </tr>\n",
              "    <tr>\n",
              "      <th>4</th>\n",
              "      <td>5</td>\n",
              "      <td>15737888</td>\n",
              "      <td>Mitchell</td>\n",
              "      <td>850</td>\n",
              "      <td>Spain</td>\n",
              "      <td>Female</td>\n",
              "      <td>43</td>\n",
              "      <td>2</td>\n",
              "      <td>125510.82</td>\n",
              "      <td>1</td>\n",
              "      <td>1</td>\n",
              "      <td>1</td>\n",
              "      <td>79084.10</td>\n",
              "      <td>0</td>\n",
              "    </tr>\n",
              "  </tbody>\n",
              "</table>\n",
              "</div>"
            ],
            "text/plain": [
              "   RowNumber  CustomerId   Surname  CreditScore Geography  Gender  Age  \\\n",
              "0          1    15634602  Hargrave          619    France  Female   42   \n",
              "1          2    15647311      Hill          608     Spain  Female   41   \n",
              "2          3    15619304      Onio          502    France  Female   42   \n",
              "3          4    15701354      Boni          699    France  Female   39   \n",
              "4          5    15737888  Mitchell          850     Spain  Female   43   \n",
              "\n",
              "   Tenure    Balance  NumOfProducts  HasCrCard  IsActiveMember  \\\n",
              "0       2       0.00              1          1               1   \n",
              "1       1   83807.86              1          0               1   \n",
              "2       8  159660.80              3          1               0   \n",
              "3       1       0.00              2          0               0   \n",
              "4       2  125510.82              1          1               1   \n",
              "\n",
              "   EstimatedSalary  Exited  \n",
              "0        101348.88       1  \n",
              "1        112542.58       0  \n",
              "2        113931.57       1  \n",
              "3         93826.63       0  \n",
              "4         79084.10       0  "
            ]
          },
          "execution_count": 3,
          "metadata": {},
          "output_type": "execute_result"
        }
      ],
      "source": [
        "df = pd.read_csv('d:/jupyter/datasets/Churn_Modelling.csv')\n",
        "df.head()\n"
      ]
    },
    {
      "cell_type": "code",
      "execution_count": 4,
      "metadata": {},
      "outputs": [
        {
          "data": {
            "text/plain": [
              "array([[619, 'France', 'Female', ..., 1, 1, 101348.88],\n",
              "       [608, 'Spain', 'Female', ..., 0, 1, 112542.58],\n",
              "       [502, 'France', 'Female', ..., 1, 0, 113931.57],\n",
              "       ...,\n",
              "       [709, 'France', 'Female', ..., 0, 1, 42085.58],\n",
              "       [772, 'Germany', 'Male', ..., 1, 0, 92888.52],\n",
              "       [792, 'France', 'Female', ..., 1, 0, 38190.78]], dtype=object)"
            ]
          },
          "execution_count": 4,
          "metadata": {},
          "output_type": "execute_result"
        }
      ],
      "source": [
        "X = df.iloc[:, 3:-1].values\n",
        "X"
      ]
    },
    {
      "cell_type": "code",
      "execution_count": 5,
      "metadata": {},
      "outputs": [
        {
          "data": {
            "text/plain": [
              "0       1\n",
              "1       0\n",
              "2       1\n",
              "3       0\n",
              "4       0\n",
              "       ..\n",
              "9995    0\n",
              "9996    0\n",
              "9997    1\n",
              "9998    1\n",
              "9999    0\n",
              "Name: Exited, Length: 10000, dtype: int64"
            ]
          },
          "execution_count": 5,
          "metadata": {},
          "output_type": "execute_result"
        }
      ],
      "source": [
        "Y = df.iloc[:, -1]\n",
        "Y"
      ]
    },
    {
      "cell_type": "markdown",
      "metadata": {
        "colab_type": "text",
        "id": "N6bQ0UgSU-NJ"
      },
      "source": [
        "### Encoding categorical data"
      ]
    },
    {
      "cell_type": "markdown",
      "metadata": {
        "colab_type": "text",
        "id": "le5MJreAbW52"
      },
      "source": [
        "Label Encoding the \"Gender\" column"
      ]
    },
    {
      "cell_type": "code",
      "execution_count": 6,
      "metadata": {},
      "outputs": [],
      "source": [
        "from sklearn.preprocessing import LabelEncoder\n",
        "le = LabelEncoder()\n",
        "X[:,2] = le.fit_transform(X[:,2])"
      ]
    },
    {
      "cell_type": "code",
      "execution_count": 7,
      "metadata": {},
      "outputs": [
        {
          "name": "stdout",
          "output_type": "stream",
          "text": [
            "[[619 'France' 0 ... 1 1 101348.88]\n",
            " [608 'Spain' 0 ... 0 1 112542.58]\n",
            " [502 'France' 0 ... 1 0 113931.57]\n",
            " ...\n",
            " [709 'France' 0 ... 0 1 42085.58]\n",
            " [772 'Germany' 1 ... 1 0 92888.52]\n",
            " [792 'France' 0 ... 1 0 38190.78]]\n"
          ]
        }
      ],
      "source": [
        "print(X)"
      ]
    },
    {
      "cell_type": "markdown",
      "metadata": {
        "colab_type": "text",
        "id": "CUxGZezpbMcb"
      },
      "source": [
        "One Hot Encoding the \"Geography\" column"
      ]
    },
    {
      "cell_type": "code",
      "execution_count": 8,
      "metadata": {},
      "outputs": [],
      "source": [
        "from sklearn.preprocessing import OneHotEncoder\n",
        "from sklearn.compose import ColumnTransformer\n",
        "\n",
        "ct = ColumnTransformer(transformers=[('encoder', OneHotEncoder(), [1])], remainder='passthrough')\n",
        "X = np.array(ct.fit_transform(X))"
      ]
    },
    {
      "cell_type": "code",
      "execution_count": 9,
      "metadata": {},
      "outputs": [
        {
          "name": "stdout",
          "output_type": "stream",
          "text": [
            "[[1.0 0.0 0.0 ... 1 1 101348.88]\n",
            " [0.0 0.0 1.0 ... 0 1 112542.58]\n",
            " [1.0 0.0 0.0 ... 1 0 113931.57]\n",
            " ...\n",
            " [1.0 0.0 0.0 ... 0 1 42085.58]\n",
            " [0.0 1.0 0.0 ... 1 0 92888.52]\n",
            " [1.0 0.0 0.0 ... 1 0 38190.78]]\n"
          ]
        }
      ],
      "source": [
        "print(X)"
      ]
    },
    {
      "cell_type": "markdown",
      "metadata": {
        "colab_type": "text",
        "id": "vHol938cW8zd"
      },
      "source": [
        "### Splitting the dataset into the Training set and Test set"
      ]
    },
    {
      "cell_type": "code",
      "execution_count": 10,
      "metadata": {},
      "outputs": [],
      "source": [
        "from sklearn.model_selection import train_test_split\n",
        "x_train, x_test, y_train, y_test = train_test_split(X,Y, test_size=0.1, random_state=0)"
      ]
    },
    {
      "cell_type": "markdown",
      "metadata": {
        "colab_type": "text",
        "id": "RE_FcHyfV3TQ"
      },
      "source": [
        "### Feature Scaling"
      ]
    },
    {
      "cell_type": "code",
      "execution_count": 11,
      "metadata": {},
      "outputs": [
        {
          "data": {
            "text/plain": [
              "array([[1.0, 0.0, 0.0, 628, 1, 34, 4, 158741.43, 2, 1, 1, 126192.54],\n",
              "       [1.0, 0.0, 0.0, 716, 0, 52, 7, 65971.61, 2, 1, 0, 14608.0],\n",
              "       [1.0, 0.0, 0.0, 617, 1, 25, 1, 102585.88, 2, 1, 1, 115387.4],\n",
              "       [1.0, 0.0, 0.0, 571, 0, 33, 9, 0.0, 2, 0, 1, 77519.62],\n",
              "       [1.0, 0.0, 0.0, 697, 1, 32, 7, 175464.85, 3, 1, 0, 116442.42]],\n",
              "      dtype=object)"
            ]
          },
          "execution_count": 11,
          "metadata": {},
          "output_type": "execute_result"
        }
      ],
      "source": [
        "x_train[:5]"
      ]
    },
    {
      "cell_type": "code",
      "execution_count": 12,
      "metadata": {},
      "outputs": [
        {
          "data": {
            "text/plain": [
              "array([[0.0, 1.0, 0.0, 597, 0, 35, 8, 131101.04, 1, 1, 1, 192852.67],\n",
              "       [1.0, 0.0, 0.0, 523, 0, 40, 2, 102967.41, 1, 1, 0, 128702.1],\n",
              "       [0.0, 0.0, 1.0, 706, 0, 42, 8, 95386.82, 1, 1, 1, 75732.25],\n",
              "       [1.0, 0.0, 0.0, 788, 1, 32, 4, 112079.58, 1, 0, 0, 89368.59],\n",
              "       [0.0, 1.0, 0.0, 706, 1, 38, 5, 163034.82, 2, 1, 1, 135662.17]],\n",
              "      dtype=object)"
            ]
          },
          "execution_count": 12,
          "metadata": {},
          "output_type": "execute_result"
        }
      ],
      "source": [
        "x_test[:5]"
      ]
    },
    {
      "cell_type": "code",
      "execution_count": 13,
      "metadata": {},
      "outputs": [],
      "source": [
        "from sklearn.preprocessing import StandardScaler\n",
        "sc = StandardScaler()\n",
        "x_train = sc.fit_transform(x_train)\n",
        "x_test = sc.transform(x_test)\n"
      ]
    },
    {
      "cell_type": "code",
      "execution_count": 14,
      "metadata": {},
      "outputs": [
        {
          "data": {
            "text/plain": [
              "array([[ 0.99445979, -0.5756396 , -0.57478426, -0.23053642,  0.91166287,\n",
              "        -0.46249623, -0.34302584,  1.31679919,  0.80873785,  0.64376017,\n",
              "         0.97108454,  0.45151104],\n",
              "       [ 0.99445979, -0.5756396 , -0.57478426,  0.67997496, -1.0968967 ,\n",
              "         1.25804455,  0.69365399, -0.16721975,  0.80873785,  0.64376017,\n",
              "        -1.02977646, -1.4892912 ],\n",
              "       [ 0.99445979, -0.5756396 , -0.57478426, -0.34435035,  0.91166287,\n",
              "        -1.32276662, -1.37970566,  0.41849088,  0.80873785,  0.64376017,\n",
              "         0.97108454,  0.26357605],\n",
              "       [ 0.99445979, -0.5756396 , -0.57478426, -0.82029948, -1.0968967 ,\n",
              "        -0.55808183,  1.38477387, -1.22255347,  0.80873785, -1.55337352,\n",
              "         0.97108454, -0.39506244],\n",
              "       [ 0.99445979, -0.5756396 , -0.57478426,  0.48338727,  0.91166287,\n",
              "        -0.65366743,  0.69365399,  1.58432016,  2.53353422,  0.64376017,\n",
              "        -1.02977646,  0.28192613]])"
            ]
          },
          "execution_count": 14,
          "metadata": {},
          "output_type": "execute_result"
        }
      ],
      "source": [
        "x_train[:5]"
      ]
    },
    {
      "cell_type": "code",
      "execution_count": 15,
      "metadata": {},
      "outputs": [
        {
          "data": {
            "text/plain": [
              "array([[-1.00557107,  1.73719807, -0.57478426, -0.55128475, -1.0968967 ,\n",
              "        -0.36691063,  1.03921393,  0.87464179, -0.91605851,  0.64376017,\n",
              "         0.97108454,  1.61093805],\n",
              "       [ 0.99445979, -0.5756396 , -0.57478426, -1.31694205, -1.0968967 ,\n",
              "         0.11101736, -1.03414572,  0.42459414, -0.91605851,  0.64376017,\n",
              "        -1.02977646,  0.4951601 ],\n",
              "       [-1.00557107, -0.5756396 ,  1.73978322,  0.57650776, -1.0968967 ,\n",
              "         0.30218856,  1.03921393,  0.30332906, -0.91605851,  0.64376017,\n",
              "         0.97108454, -0.42615036],\n",
              "       [ 0.99445979, -0.5756396 , -0.57478426,  1.42493882,  0.91166287,\n",
              "        -0.65366743, -0.34302584,  0.57035957, -0.91605851, -1.55337352,\n",
              "        -1.02977646, -0.18897199],\n",
              "       [-1.00557107,  1.73719807, -0.57478426,  0.57650776,  0.91166287,\n",
              "        -0.08015383,  0.00253411,  1.38547963,  0.80873785,  0.64376017,\n",
              "         0.97108454,  0.61621736]])"
            ]
          },
          "execution_count": 15,
          "metadata": {},
          "output_type": "execute_result"
        }
      ],
      "source": [
        "x_test[:5]"
      ]
    },
    {
      "cell_type": "markdown",
      "metadata": {
        "colab_type": "text",
        "id": "-zfEzkRVXIwF"
      },
      "source": [
        "## Part 2 - Building the ANN"
      ]
    },
    {
      "cell_type": "markdown",
      "metadata": {
        "colab_type": "text",
        "id": "KvdeScabXtlB"
      },
      "source": [
        "### Initializing the ANN"
      ]
    },
    {
      "cell_type": "code",
      "execution_count": 16,
      "metadata": {},
      "outputs": [],
      "source": [
        "from tensorflow.keras.models import Sequential\n",
        "from tensorflow.keras.layers import Dense"
      ]
    },
    {
      "cell_type": "markdown",
      "metadata": {
        "colab_type": "text",
        "id": "rP6urV6SX7kS"
      },
      "source": [
        "### Adding the input layer and the first hidden layer"
      ]
    },
    {
      "cell_type": "markdown",
      "metadata": {
        "colab_type": "text",
        "id": "BELWAc_8YJze"
      },
      "source": [
        "### Adding the second hidden layer"
      ]
    },
    {
      "cell_type": "markdown",
      "metadata": {
        "colab_type": "text",
        "id": "OyNEe6RXYcU4"
      },
      "source": [
        "### Adding the output layer"
      ]
    },
    {
      "cell_type": "code",
      "execution_count": 17,
      "metadata": {},
      "outputs": [],
      "source": [
        "ann_model = Sequential([\n",
        "    Dense(6,activation='relu'),\n",
        "    Dense(6, activation='relu'),\n",
        "    Dense(1, activation='sigmoid')\n",
        "])\n"
      ]
    },
    {
      "cell_type": "code",
      "execution_count": 18,
      "metadata": {},
      "outputs": [],
      "source": [
        "# ann_model.summary()"
      ]
    },
    {
      "cell_type": "markdown",
      "metadata": {
        "colab_type": "text",
        "id": "JT4u2S1_Y4WG"
      },
      "source": [
        "## Part 3 - Training the ANN"
      ]
    },
    {
      "cell_type": "markdown",
      "metadata": {
        "colab_type": "text",
        "id": "8GWlJChhY_ZI"
      },
      "source": [
        "### Compiling the ANN"
      ]
    },
    {
      "cell_type": "code",
      "execution_count": 19,
      "metadata": {},
      "outputs": [],
      "source": [
        "ann_model.compile(\n",
        "    optimizer='adam',\n",
        "    loss='binary_crossentropy',\n",
        "    metrics = ['accuracy']\n",
        ")"
      ]
    },
    {
      "cell_type": "markdown",
      "metadata": {
        "colab_type": "text",
        "id": "0QR_G5u7ZLSM"
      },
      "source": [
        "### Training the ANN on the Training set"
      ]
    },
    {
      "cell_type": "code",
      "execution_count": 20,
      "metadata": {},
      "outputs": [
        {
          "name": "stdout",
          "output_type": "stream",
          "text": [
            "Epoch 1/100\n",
            "282/282 - 5s - loss: 0.5206 - accuracy: 0.7839 - 5s/epoch - 18ms/step\n",
            "Epoch 2/100\n",
            "282/282 - 1s - loss: 0.4616 - accuracy: 0.8014 - 1s/epoch - 4ms/step\n",
            "Epoch 3/100\n",
            "282/282 - 1s - loss: 0.4418 - accuracy: 0.8102 - 1s/epoch - 4ms/step\n",
            "Epoch 4/100\n",
            "282/282 - 1s - loss: 0.4290 - accuracy: 0.8136 - 1s/epoch - 4ms/step\n",
            "Epoch 5/100\n",
            "282/282 - 1s - loss: 0.4198 - accuracy: 0.8172 - 1s/epoch - 4ms/step\n",
            "Epoch 6/100\n",
            "282/282 - 1s - loss: 0.4127 - accuracy: 0.8187 - 1s/epoch - 4ms/step\n",
            "Epoch 7/100\n",
            "282/282 - 1s - loss: 0.4065 - accuracy: 0.8187 - 1s/epoch - 4ms/step\n",
            "Epoch 8/100\n",
            "282/282 - 1s - loss: 0.4008 - accuracy: 0.8207 - 1s/epoch - 4ms/step\n",
            "Epoch 9/100\n",
            "282/282 - 1s - loss: 0.3954 - accuracy: 0.8216 - 1s/epoch - 4ms/step\n",
            "Epoch 10/100\n",
            "282/282 - 1s - loss: 0.3887 - accuracy: 0.8283 - 1s/epoch - 4ms/step\n",
            "Epoch 11/100\n",
            "282/282 - 1s - loss: 0.3810 - accuracy: 0.8352 - 1s/epoch - 4ms/step\n",
            "Epoch 12/100\n",
            "282/282 - 1s - loss: 0.3726 - accuracy: 0.8419 - 1s/epoch - 4ms/step\n",
            "Epoch 13/100\n",
            "282/282 - 1s - loss: 0.3659 - accuracy: 0.8460 - 1s/epoch - 4ms/step\n",
            "Epoch 14/100\n",
            "282/282 - 1s - loss: 0.3619 - accuracy: 0.8473 - 1s/epoch - 4ms/step\n",
            "Epoch 15/100\n",
            "282/282 - 1s - loss: 0.3596 - accuracy: 0.8492 - 1s/epoch - 4ms/step\n",
            "Epoch 16/100\n",
            "282/282 - 1s - loss: 0.3581 - accuracy: 0.8509 - 1s/epoch - 4ms/step\n",
            "Epoch 17/100\n",
            "282/282 - 1s - loss: 0.3569 - accuracy: 0.8524 - 1s/epoch - 5ms/step\n",
            "Epoch 18/100\n",
            "282/282 - 2s - loss: 0.3557 - accuracy: 0.8507 - 2s/epoch - 5ms/step\n",
            "Epoch 19/100\n",
            "282/282 - 2s - loss: 0.3553 - accuracy: 0.8518 - 2s/epoch - 8ms/step\n",
            "Epoch 20/100\n",
            "282/282 - 2s - loss: 0.3543 - accuracy: 0.8547 - 2s/epoch - 7ms/step\n",
            "Epoch 21/100\n",
            "282/282 - 1s - loss: 0.3537 - accuracy: 0.8534 - 1s/epoch - 5ms/step\n",
            "Epoch 22/100\n",
            "282/282 - 1s - loss: 0.3535 - accuracy: 0.8536 - 1s/epoch - 4ms/step\n",
            "Epoch 23/100\n",
            "282/282 - 1s - loss: 0.3528 - accuracy: 0.8543 - 1s/epoch - 4ms/step\n",
            "Epoch 24/100\n",
            "282/282 - 2s - loss: 0.3523 - accuracy: 0.8534 - 2s/epoch - 8ms/step\n",
            "Epoch 25/100\n",
            "282/282 - 2s - loss: 0.3521 - accuracy: 0.8549 - 2s/epoch - 6ms/step\n",
            "Epoch 26/100\n",
            "282/282 - 1s - loss: 0.3519 - accuracy: 0.8539 - 1s/epoch - 4ms/step\n",
            "Epoch 27/100\n",
            "282/282 - 1s - loss: 0.3513 - accuracy: 0.8561 - 1s/epoch - 4ms/step\n",
            "Epoch 28/100\n",
            "282/282 - 2s - loss: 0.3504 - accuracy: 0.8578 - 2s/epoch - 6ms/step\n",
            "Epoch 29/100\n",
            "282/282 - 2s - loss: 0.3500 - accuracy: 0.8549 - 2s/epoch - 8ms/step\n",
            "Epoch 30/100\n",
            "282/282 - 1s - loss: 0.3495 - accuracy: 0.8559 - 1s/epoch - 4ms/step\n",
            "Epoch 31/100\n",
            "282/282 - 1s - loss: 0.3496 - accuracy: 0.8566 - 1s/epoch - 4ms/step\n",
            "Epoch 32/100\n",
            "282/282 - 1s - loss: 0.3493 - accuracy: 0.8570 - 1s/epoch - 5ms/step\n",
            "Epoch 33/100\n",
            "282/282 - 1s - loss: 0.3487 - accuracy: 0.8554 - 1s/epoch - 5ms/step\n",
            "Epoch 34/100\n",
            "282/282 - 2s - loss: 0.3482 - accuracy: 0.8554 - 2s/epoch - 9ms/step\n",
            "Epoch 35/100\n",
            "282/282 - 2s - loss: 0.3480 - accuracy: 0.8583 - 2s/epoch - 8ms/step\n",
            "Epoch 36/100\n",
            "282/282 - 1s - loss: 0.3476 - accuracy: 0.8591 - 1s/epoch - 4ms/step\n",
            "Epoch 37/100\n",
            "282/282 - 2s - loss: 0.3472 - accuracy: 0.8577 - 2s/epoch - 6ms/step\n",
            "Epoch 38/100\n",
            "282/282 - 2s - loss: 0.3472 - accuracy: 0.8587 - 2s/epoch - 6ms/step\n",
            "Epoch 39/100\n",
            "282/282 - 1s - loss: 0.3462 - accuracy: 0.8588 - 1s/epoch - 5ms/step\n",
            "Epoch 40/100\n",
            "282/282 - 1s - loss: 0.3465 - accuracy: 0.8569 - 1s/epoch - 4ms/step\n",
            "Epoch 41/100\n",
            "282/282 - 1s - loss: 0.3463 - accuracy: 0.8583 - 1s/epoch - 5ms/step\n",
            "Epoch 42/100\n",
            "282/282 - 2s - loss: 0.3460 - accuracy: 0.8591 - 2s/epoch - 8ms/step\n",
            "Epoch 43/100\n",
            "282/282 - 2s - loss: 0.3454 - accuracy: 0.8589 - 2s/epoch - 6ms/step\n",
            "Epoch 44/100\n",
            "282/282 - 2s - loss: 0.3452 - accuracy: 0.8606 - 2s/epoch - 5ms/step\n",
            "Epoch 45/100\n",
            "282/282 - 1s - loss: 0.3451 - accuracy: 0.8578 - 1s/epoch - 5ms/step\n",
            "Epoch 46/100\n",
            "282/282 - 2s - loss: 0.3450 - accuracy: 0.8600 - 2s/epoch - 8ms/step\n",
            "Epoch 47/100\n",
            "282/282 - 1s - loss: 0.3443 - accuracy: 0.8592 - 1s/epoch - 4ms/step\n",
            "Epoch 48/100\n",
            "282/282 - 1s - loss: 0.3443 - accuracy: 0.8602 - 1s/epoch - 4ms/step\n",
            "Epoch 49/100\n",
            "282/282 - 1s - loss: 0.3438 - accuracy: 0.8593 - 1s/epoch - 4ms/step\n",
            "Epoch 50/100\n",
            "282/282 - 1s - loss: 0.3435 - accuracy: 0.8609 - 1s/epoch - 4ms/step\n",
            "Epoch 51/100\n",
            "282/282 - 1s - loss: 0.3433 - accuracy: 0.8592 - 1s/epoch - 4ms/step\n",
            "Epoch 52/100\n",
            "282/282 - 2s - loss: 0.3433 - accuracy: 0.8600 - 2s/epoch - 6ms/step\n",
            "Epoch 53/100\n",
            "282/282 - 2s - loss: 0.3431 - accuracy: 0.8621 - 2s/epoch - 8ms/step\n",
            "Epoch 54/100\n",
            "282/282 - 1s - loss: 0.3431 - accuracy: 0.8598 - 1s/epoch - 5ms/step\n",
            "Epoch 55/100\n",
            "282/282 - 1s - loss: 0.3424 - accuracy: 0.8610 - 1s/epoch - 5ms/step\n",
            "Epoch 56/100\n",
            "282/282 - 2s - loss: 0.3425 - accuracy: 0.8600 - 2s/epoch - 6ms/step\n",
            "Epoch 57/100\n",
            "282/282 - 2s - loss: 0.3421 - accuracy: 0.8622 - 2s/epoch - 7ms/step\n",
            "Epoch 58/100\n",
            "282/282 - 1s - loss: 0.3420 - accuracy: 0.8601 - 1s/epoch - 4ms/step\n",
            "Epoch 59/100\n",
            "282/282 - 1s - loss: 0.3420 - accuracy: 0.8602 - 1s/epoch - 4ms/step\n",
            "Epoch 60/100\n",
            "282/282 - 1s - loss: 0.3419 - accuracy: 0.8606 - 1s/epoch - 4ms/step\n",
            "Epoch 61/100\n",
            "282/282 - 1s - loss: 0.3415 - accuracy: 0.8601 - 1s/epoch - 4ms/step\n",
            "Epoch 62/100\n",
            "282/282 - 1s - loss: 0.3419 - accuracy: 0.8606 - 1s/epoch - 5ms/step\n",
            "Epoch 63/100\n",
            "282/282 - 2s - loss: 0.3416 - accuracy: 0.8602 - 2s/epoch - 8ms/step\n",
            "Epoch 64/100\n",
            "282/282 - 2s - loss: 0.3412 - accuracy: 0.8612 - 2s/epoch - 7ms/step\n",
            "Epoch 65/100\n",
            "282/282 - 1s - loss: 0.3410 - accuracy: 0.8612 - 1s/epoch - 4ms/step\n",
            "Epoch 66/100\n",
            "282/282 - 1s - loss: 0.3408 - accuracy: 0.8617 - 1s/epoch - 4ms/step\n",
            "Epoch 67/100\n",
            "282/282 - 1s - loss: 0.3405 - accuracy: 0.8594 - 1s/epoch - 4ms/step\n",
            "Epoch 68/100\n",
            "282/282 - 1s - loss: 0.3410 - accuracy: 0.8616 - 1s/epoch - 4ms/step\n",
            "Epoch 69/100\n",
            "282/282 - 2s - loss: 0.3404 - accuracy: 0.8628 - 2s/epoch - 8ms/step\n",
            "Epoch 70/100\n",
            "282/282 - 2s - loss: 0.3405 - accuracy: 0.8601 - 2s/epoch - 7ms/step\n",
            "Epoch 71/100\n",
            "282/282 - 1s - loss: 0.3399 - accuracy: 0.8626 - 1s/epoch - 4ms/step\n",
            "Epoch 72/100\n",
            "282/282 - 1s - loss: 0.3400 - accuracy: 0.8626 - 1s/epoch - 4ms/step\n",
            "Epoch 73/100\n",
            "282/282 - 1s - loss: 0.3401 - accuracy: 0.8592 - 1s/epoch - 4ms/step\n",
            "Epoch 74/100\n",
            "282/282 - 1s - loss: 0.3395 - accuracy: 0.8616 - 1s/epoch - 4ms/step\n",
            "Epoch 75/100\n",
            "282/282 - 1s - loss: 0.3396 - accuracy: 0.8616 - 1s/epoch - 4ms/step\n",
            "Epoch 76/100\n",
            "282/282 - 2s - loss: 0.3390 - accuracy: 0.8613 - 2s/epoch - 7ms/step\n",
            "Epoch 77/100\n",
            "282/282 - 2s - loss: 0.3398 - accuracy: 0.8619 - 2s/epoch - 8ms/step\n",
            "Epoch 78/100\n",
            "282/282 - 1s - loss: 0.3389 - accuracy: 0.8624 - 1s/epoch - 5ms/step\n",
            "Epoch 79/100\n",
            "282/282 - 1s - loss: 0.3391 - accuracy: 0.8622 - 1s/epoch - 5ms/step\n",
            "Epoch 80/100\n",
            "282/282 - 1s - loss: 0.3383 - accuracy: 0.8621 - 1s/epoch - 4ms/step\n",
            "Epoch 81/100\n",
            "282/282 - 2s - loss: 0.3384 - accuracy: 0.8614 - 2s/epoch - 8ms/step\n",
            "Epoch 82/100\n",
            "282/282 - 1s - loss: 0.3378 - accuracy: 0.8611 - 1s/epoch - 5ms/step\n",
            "Epoch 83/100\n",
            "282/282 - 1s - loss: 0.3381 - accuracy: 0.8622 - 1s/epoch - 4ms/step\n",
            "Epoch 84/100\n",
            "282/282 - 1s - loss: 0.3377 - accuracy: 0.8609 - 1s/epoch - 4ms/step\n",
            "Epoch 85/100\n",
            "282/282 - 1s - loss: 0.3380 - accuracy: 0.8619 - 1s/epoch - 5ms/step\n",
            "Epoch 86/100\n",
            "282/282 - 3s - loss: 0.3370 - accuracy: 0.8618 - 3s/epoch - 9ms/step\n",
            "Epoch 87/100\n",
            "282/282 - 2s - loss: 0.3371 - accuracy: 0.8617 - 2s/epoch - 6ms/step\n",
            "Epoch 88/100\n",
            "282/282 - 1s - loss: 0.3372 - accuracy: 0.8629 - 1s/epoch - 5ms/step\n",
            "Epoch 89/100\n",
            "282/282 - 1s - loss: 0.3366 - accuracy: 0.8634 - 1s/epoch - 4ms/step\n",
            "Epoch 90/100\n",
            "282/282 - 2s - loss: 0.3368 - accuracy: 0.8630 - 2s/epoch - 6ms/step\n",
            "Epoch 91/100\n",
            "282/282 - 2s - loss: 0.3360 - accuracy: 0.8626 - 2s/epoch - 7ms/step\n",
            "Epoch 92/100\n",
            "282/282 - 1s - loss: 0.3364 - accuracy: 0.8619 - 1s/epoch - 5ms/step\n",
            "Epoch 93/100\n",
            "282/282 - 1s - loss: 0.3363 - accuracy: 0.8623 - 1s/epoch - 5ms/step\n",
            "Epoch 94/100\n",
            "282/282 - 3s - loss: 0.3353 - accuracy: 0.8623 - 3s/epoch - 9ms/step\n",
            "Epoch 95/100\n",
            "282/282 - 2s - loss: 0.3358 - accuracy: 0.8632 - 2s/epoch - 7ms/step\n",
            "Epoch 96/100\n",
            "282/282 - 2s - loss: 0.3352 - accuracy: 0.8639 - 2s/epoch - 6ms/step\n",
            "Epoch 97/100\n",
            "282/282 - 2s - loss: 0.3351 - accuracy: 0.8634 - 2s/epoch - 7ms/step\n",
            "Epoch 98/100\n",
            "282/282 - 2s - loss: 0.3351 - accuracy: 0.8627 - 2s/epoch - 8ms/step\n",
            "Epoch 99/100\n",
            "282/282 - 1s - loss: 0.3345 - accuracy: 0.8638 - 1s/epoch - 5ms/step\n",
            "Epoch 100/100\n",
            "282/282 - 1s - loss: 0.3343 - accuracy: 0.8636 - 1s/epoch - 5ms/step\n"
          ]
        },
        {
          "data": {
            "text/plain": [
              "<keras.callbacks.History at 0x19b2390dbe0>"
            ]
          },
          "execution_count": 20,
          "metadata": {},
          "output_type": "execute_result"
        }
      ],
      "source": [
        "ann_model.fit(x_train, y_train, batch_size=32, epochs=100, verbose=2)"
      ]
    },
    {
      "cell_type": "markdown",
      "metadata": {
        "colab_type": "text",
        "id": "tJj5k2MxZga3"
      },
      "source": [
        "## Part 4 - Making the predictions and evaluating the model"
      ]
    },
    {
      "cell_type": "markdown",
      "metadata": {
        "colab_type": "text",
        "id": "84QFoqGYeXHL"
      },
      "source": [
        "### Predicting the result of a single observation"
      ]
    },
    {
      "cell_type": "code",
      "execution_count": 21,
      "metadata": {},
      "outputs": [
        {
          "data": {
            "text/plain": [
              "array([[0.30005127],\n",
              "       [0.36148494],\n",
              "       [0.08340269],\n",
              "       [0.07219324],\n",
              "       [0.06253739]], dtype=float32)"
            ]
          },
          "execution_count": 21,
          "metadata": {},
          "output_type": "execute_result"
        }
      ],
      "source": [
        "predicted = ann_model.predict(x_test)\n",
        "predicted[:5]"
      ]
    },
    {
      "cell_type": "markdown",
      "metadata": {
        "colab_type": "text",
        "id": "CGRo3eacgDdC"
      },
      "source": [
        "**Homework**\n",
        "\n",
        "Use our ANN model to predict if the customer with the following informations will leave the bank: \n",
        "\n",
        "Geography: France\n",
        "\n",
        "Credit Score: 600\n",
        "\n",
        "Gender: Male\n",
        "\n",
        "Age: 40 years old\n",
        "\n",
        "Tenure: 3 years\n",
        "\n",
        "Balance: \\$ 60000\n",
        "\n",
        "Number of Products: 2\n",
        "\n",
        "Does this customer have a credit card ? Yes\n",
        "\n",
        "Is this customer an Active Member: Yes\n",
        "\n",
        "Estimated Salary: \\$ 50000\n",
        "\n",
        "So, should we say goodbye to that customer ?"
      ]
    },
    {
      "cell_type": "code",
      "execution_count": 22,
      "metadata": {},
      "outputs": [
        {
          "name": "stdout",
          "output_type": "stream",
          "text": [
            "[[False]]\n"
          ]
        }
      ],
      "source": [
        "print(ann_model.predict(sc.transform([[1,0,0,600,1,40,3,60000,2,1,1,50000]])) > 0.5)"
      ]
    },
    {
      "cell_type": "markdown",
      "metadata": {
        "colab_type": "text",
        "id": "ZhU1LTgPg-kH"
      },
      "source": [
        "**Solution**"
      ]
    },
    {
      "cell_type": "markdown",
      "metadata": {
        "colab_type": "text",
        "id": "wGjx94g2n7OV"
      },
      "source": [
        "Therefore, our ANN model predicts that this customer stays in the bank!\n",
        "\n",
        "**Important note 1:** Notice that the values of the features were all input in a double pair of square brackets. That's because the \"predict\" method always expects a 2D array as the format of its inputs. And putting our values into a double pair of square brackets makes the input exactly a 2D array.\n",
        "\n",
        "**Important note 2:** Notice also that the \"France\" country was not input as a string in the last column but as \"1, 0, 0\" in the first three columns. That's because of course the predict method expects the one-hot-encoded values of the state, and as we see in the first row of the matrix of features X, \"France\" was encoded as \"1, 0, 0\". And be careful to include these values in the first three columns, because the dummy variables are always created in the first columns."
      ]
    },
    {
      "cell_type": "markdown",
      "metadata": {
        "colab_type": "text",
        "id": "u7yx47jPZt11"
      },
      "source": [
        "### Predicting the Test set results"
      ]
    },
    {
      "cell_type": "code",
      "execution_count": 28,
      "metadata": {},
      "outputs": [
        {
          "data": {
            "text/plain": [
              "array([[False],\n",
              "       [False],\n",
              "       [False],\n",
              "       [False],\n",
              "       [False]])"
            ]
          },
          "execution_count": 28,
          "metadata": {},
          "output_type": "execute_result"
        }
      ],
      "source": [
        "y_pred = ann_model.predict(x_test)\n",
        "y_pred = (y_pred > 0.5)\n",
        "y_pred[:5]\n"
      ]
    },
    {
      "cell_type": "markdown",
      "metadata": {
        "colab_type": "text",
        "id": "o0oyfLWoaEGw"
      },
      "source": [
        "### Making the Confusion Matrix"
      ]
    }
  ],
  "metadata": {
    "colab": {
      "collapsed_sections": [],
      "name": "artificial_neural_network.ipynb",
      "provenance": [],
      "toc_visible": true
    },
    "kernelspec": {
      "display_name": "Python 3",
      "name": "python3"
    },
    "language_info": {
      "codemirror_mode": {
        "name": "ipython",
        "version": 3
      },
      "file_extension": ".py",
      "mimetype": "text/x-python",
      "name": "python",
      "nbconvert_exporter": "python",
      "pygments_lexer": "ipython3",
      "version": "3.9.7"
    }
  },
  "nbformat": 4,
  "nbformat_minor": 0
}
