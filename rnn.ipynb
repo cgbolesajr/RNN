{
 "cells": [
  {
   "cell_type": "code",
   "execution_count": 1,
   "metadata": {},
   "outputs": [],
   "source": [
    "import numpy as np\n",
    "import matplotlib.pyplot as plt\n",
    "import pandas as pd\n"
   ]
  },
  {
   "cell_type": "code",
   "execution_count": 2,
   "metadata": {},
   "outputs": [],
   "source": [
    "dataset_train = pd.read_csv('d:/jupyter/datasets/Google_Stock_Price_Train.csv')\n",
    "training_set = dataset_train.iloc[:, 1:2].values"
   ]
  },
  {
   "cell_type": "code",
   "execution_count": 3,
   "metadata": {},
   "outputs": [],
   "source": [
    "from sklearn.preprocessing import MinMaxScaler\n",
    "sc = MinMaxScaler(feature_range = (0, 1))\n",
    "training_set_scaled = sc.fit_transform(training_set)"
   ]
  },
  {
   "cell_type": "code",
   "execution_count": 4,
   "metadata": {},
   "outputs": [],
   "source": [
    "X_train = []\n",
    "y_train = []\n",
    "for i in range(60, 1258):\n",
    "    X_train.append(training_set_scaled[i-60:i, 0])\n",
    "    y_train.append(training_set_scaled[i, 0])\n",
    "X_train, y_train = np.array(X_train), np.array(y_train)"
   ]
  },
  {
   "cell_type": "code",
   "execution_count": 5,
   "metadata": {},
   "outputs": [],
   "source": [
    "X_train = np.reshape(X_train, (X_train.shape[0], X_train.shape[1], 1))"
   ]
  },
  {
   "cell_type": "code",
   "execution_count": 6,
   "metadata": {},
   "outputs": [],
   "source": [
    "from keras.models import Sequential\n",
    "from keras.layers import Dense\n",
    "from keras.layers import CuDNNLSTM\n",
    "from keras.layers import Dropout\n"
   ]
  },
  {
   "cell_type": "code",
   "execution_count": 7,
   "metadata": {},
   "outputs": [],
   "source": [
    "regressor = Sequential([\n",
    "\n",
    "    CuDNNLSTM(units=50, return_sequences=True, input_shape=(X_train.shape[1], 1)),\n",
    "    Dropout(0.2),\n",
    "\n",
    "    CuDNNLSTM(units=50, return_sequences=True),\n",
    "    Dropout(0.2),\n",
    "\n",
    "    CuDNNLSTM(units=50, return_sequences=True),\n",
    "    Dropout(0.2),\n",
    "\n",
    "    CuDNNLSTM(units=50),\n",
    "    Dropout(0.2),\n",
    "\n",
    "    Dense(units=1)\n",
    "\n",
    "])\n"
   ]
  },
  {
   "cell_type": "code",
   "execution_count": 8,
   "metadata": {},
   "outputs": [],
   "source": [
    "regressor.compile(\n",
    "    optimizer='adam',\n",
    "    loss='mean_squared_error',\n",
    "    metrics=['accuracy']\n",
    ")"
   ]
  },
  {
   "cell_type": "code",
   "execution_count": 9,
   "metadata": {},
   "outputs": [
    {
     "name": "stdout",
     "output_type": "stream",
     "text": [
      "Epoch 1/100\n",
      "38/38 - 7s - loss: 0.0437 - 7s/epoch - 189ms/step\n",
      "Epoch 2/100\n",
      "38/38 - 1s - loss: 0.0061 - 810ms/epoch - 21ms/step\n",
      "Epoch 3/100\n",
      "38/38 - 1s - loss: 0.0055 - 796ms/epoch - 21ms/step\n",
      "Epoch 4/100\n",
      "38/38 - 1s - loss: 0.0051 - 845ms/epoch - 22ms/step\n",
      "Epoch 5/100\n",
      "38/38 - 1s - loss: 0.0055 - 794ms/epoch - 21ms/step\n",
      "Epoch 6/100\n",
      "38/38 - 1s - loss: 0.0045 - 787ms/epoch - 21ms/step\n",
      "Epoch 7/100\n",
      "38/38 - 1s - loss: 0.0044 - 820ms/epoch - 22ms/step\n",
      "Epoch 8/100\n",
      "38/38 - 1s - loss: 0.0053 - 843ms/epoch - 22ms/step\n",
      "Epoch 9/100\n",
      "38/38 - 1s - loss: 0.0043 - 846ms/epoch - 22ms/step\n",
      "Epoch 10/100\n",
      "38/38 - 1s - loss: 0.0043 - 898ms/epoch - 24ms/step\n",
      "Epoch 11/100\n",
      "38/38 - 1s - loss: 0.0046 - 1s/epoch - 35ms/step\n",
      "Epoch 12/100\n",
      "38/38 - 1s - loss: 0.0044 - 1s/epoch - 39ms/step\n",
      "Epoch 13/100\n",
      "38/38 - 1s - loss: 0.0042 - 1s/epoch - 30ms/step\n",
      "Epoch 14/100\n",
      "38/38 - 1s - loss: 0.0037 - 759ms/epoch - 20ms/step\n",
      "Epoch 15/100\n",
      "38/38 - 1s - loss: 0.0044 - 770ms/epoch - 20ms/step\n",
      "Epoch 16/100\n",
      "38/38 - 1s - loss: 0.0040 - 748ms/epoch - 20ms/step\n",
      "Epoch 17/100\n",
      "38/38 - 1s - loss: 0.0037 - 933ms/epoch - 25ms/step\n",
      "Epoch 18/100\n",
      "38/38 - 1s - loss: 0.0037 - 1s/epoch - 32ms/step\n",
      "Epoch 19/100\n",
      "38/38 - 1s - loss: 0.0035 - 1s/epoch - 31ms/step\n",
      "Epoch 20/100\n",
      "38/38 - 1s - loss: 0.0035 - 982ms/epoch - 26ms/step\n",
      "Epoch 21/100\n",
      "38/38 - 1s - loss: 0.0033 - 749ms/epoch - 20ms/step\n",
      "Epoch 22/100\n",
      "38/38 - 1s - loss: 0.0031 - 748ms/epoch - 20ms/step\n",
      "Epoch 23/100\n",
      "38/38 - 1s - loss: 0.0031 - 747ms/epoch - 20ms/step\n",
      "Epoch 24/100\n",
      "38/38 - 1s - loss: 0.0030 - 740ms/epoch - 19ms/step\n",
      "Epoch 25/100\n",
      "38/38 - 1s - loss: 0.0030 - 1s/epoch - 31ms/step\n",
      "Epoch 26/100\n",
      "38/38 - 1s - loss: 0.0028 - 1s/epoch - 30ms/step\n",
      "Epoch 27/100\n",
      "38/38 - 1s - loss: 0.0031 - 1s/epoch - 33ms/step\n",
      "Epoch 28/100\n",
      "38/38 - 1s - loss: 0.0031 - 937ms/epoch - 25ms/step\n",
      "Epoch 29/100\n",
      "38/38 - 1s - loss: 0.0028 - 967ms/epoch - 25ms/step\n",
      "Epoch 30/100\n",
      "38/38 - 2s - loss: 0.0033 - 2s/epoch - 57ms/step\n",
      "Epoch 31/100\n",
      "38/38 - 2s - loss: 0.0028 - 2s/epoch - 50ms/step\n",
      "Epoch 32/100\n",
      "38/38 - 1s - loss: 0.0030 - 1s/epoch - 34ms/step\n",
      "Epoch 33/100\n",
      "38/38 - 1s - loss: 0.0027 - 925ms/epoch - 24ms/step\n",
      "Epoch 34/100\n",
      "38/38 - 1s - loss: 0.0030 - 813ms/epoch - 21ms/step\n",
      "Epoch 35/100\n",
      "38/38 - 1s - loss: 0.0029 - 732ms/epoch - 19ms/step\n",
      "Epoch 36/100\n",
      "38/38 - 1s - loss: 0.0030 - 1s/epoch - 27ms/step\n",
      "Epoch 37/100\n",
      "38/38 - 1s - loss: 0.0029 - 1s/epoch - 30ms/step\n",
      "Epoch 38/100\n",
      "38/38 - 1s - loss: 0.0026 - 1s/epoch - 29ms/step\n",
      "Epoch 39/100\n",
      "38/38 - 1s - loss: 0.0029 - 1s/epoch - 29ms/step\n",
      "Epoch 40/100\n",
      "38/38 - 1s - loss: 0.0026 - 909ms/epoch - 24ms/step\n",
      "Epoch 41/100\n",
      "38/38 - 1s - loss: 0.0028 - 887ms/epoch - 23ms/step\n",
      "Epoch 42/100\n",
      "38/38 - 1s - loss: 0.0025 - 812ms/epoch - 21ms/step\n",
      "Epoch 43/100\n",
      "38/38 - 1s - loss: 0.0025 - 1s/epoch - 30ms/step\n",
      "Epoch 44/100\n",
      "38/38 - 1s - loss: 0.0024 - 1s/epoch - 31ms/step\n",
      "Epoch 45/100\n",
      "38/38 - 1s - loss: 0.0027 - 1s/epoch - 32ms/step\n",
      "Epoch 46/100\n",
      "38/38 - 1s - loss: 0.0026 - 1s/epoch - 30ms/step\n",
      "Epoch 47/100\n",
      "38/38 - 1s - loss: 0.0032 - 1s/epoch - 36ms/step\n",
      "Epoch 48/100\n",
      "38/38 - 1s - loss: 0.0023 - 733ms/epoch - 19ms/step\n",
      "Epoch 49/100\n",
      "38/38 - 1s - loss: 0.0024 - 991ms/epoch - 26ms/step\n",
      "Epoch 50/100\n",
      "38/38 - 1s - loss: 0.0022 - 1s/epoch - 36ms/step\n",
      "Epoch 51/100\n",
      "38/38 - 1s - loss: 0.0022 - 1s/epoch - 37ms/step\n",
      "Epoch 52/100\n",
      "38/38 - 1s - loss: 0.0026 - 1s/epoch - 31ms/step\n",
      "Epoch 53/100\n",
      "38/38 - 1s - loss: 0.0022 - 1s/epoch - 29ms/step\n",
      "Epoch 54/100\n",
      "38/38 - 1s - loss: 0.0020 - 1s/epoch - 31ms/step\n",
      "Epoch 55/100\n",
      "38/38 - 1s - loss: 0.0022 - 1s/epoch - 30ms/step\n",
      "Epoch 56/100\n",
      "38/38 - 1s - loss: 0.0021 - 1s/epoch - 28ms/step\n",
      "Epoch 57/100\n",
      "38/38 - 1s - loss: 0.0020 - 750ms/epoch - 20ms/step\n",
      "Epoch 58/100\n",
      "38/38 - 1s - loss: 0.0022 - 744ms/epoch - 20ms/step\n",
      "Epoch 59/100\n",
      "38/38 - 1s - loss: 0.0020 - 752ms/epoch - 20ms/step\n",
      "Epoch 60/100\n",
      "38/38 - 1s - loss: 0.0021 - 742ms/epoch - 20ms/step\n",
      "Epoch 61/100\n",
      "38/38 - 1s - loss: 0.0021 - 946ms/epoch - 25ms/step\n",
      "Epoch 62/100\n",
      "38/38 - 1s - loss: 0.0020 - 1s/epoch - 37ms/step\n",
      "Epoch 63/100\n",
      "38/38 - 1s - loss: 0.0018 - 1s/epoch - 32ms/step\n",
      "Epoch 64/100\n",
      "38/38 - 1s - loss: 0.0019 - 1s/epoch - 33ms/step\n",
      "Epoch 65/100\n",
      "38/38 - 1s - loss: 0.0022 - 1s/epoch - 31ms/step\n",
      "Epoch 66/100\n",
      "38/38 - 1s - loss: 0.0018 - 1s/epoch - 33ms/step\n",
      "Epoch 67/100\n",
      "38/38 - 1s - loss: 0.0019 - 1s/epoch - 33ms/step\n",
      "Epoch 68/100\n",
      "38/38 - 1s - loss: 0.0025 - 1s/epoch - 31ms/step\n",
      "Epoch 69/100\n",
      "38/38 - 1s - loss: 0.0019 - 1s/epoch - 28ms/step\n",
      "Epoch 70/100\n",
      "38/38 - 1s - loss: 0.0017 - 743ms/epoch - 20ms/step\n",
      "Epoch 71/100\n",
      "38/38 - 1s - loss: 0.0019 - 750ms/epoch - 20ms/step\n",
      "Epoch 72/100\n",
      "38/38 - 1s - loss: 0.0018 - 797ms/epoch - 21ms/step\n",
      "Epoch 73/100\n",
      "38/38 - 1s - loss: 0.0017 - 1s/epoch - 31ms/step\n",
      "Epoch 74/100\n",
      "38/38 - 1s - loss: 0.0019 - 1s/epoch - 30ms/step\n",
      "Epoch 75/100\n",
      "38/38 - 1s - loss: 0.0019 - 1s/epoch - 30ms/step\n",
      "Epoch 76/100\n",
      "38/38 - 1s - loss: 0.0018 - 1s/epoch - 30ms/step\n",
      "Epoch 77/100\n",
      "38/38 - 1s - loss: 0.0018 - 1s/epoch - 29ms/step\n",
      "Epoch 78/100\n",
      "38/38 - 1s - loss: 0.0017 - 1s/epoch - 32ms/step\n",
      "Epoch 79/100\n",
      "38/38 - 1s - loss: 0.0015 - 1s/epoch - 37ms/step\n",
      "Epoch 80/100\n",
      "38/38 - 1s - loss: 0.0017 - 1s/epoch - 37ms/step\n",
      "Epoch 81/100\n",
      "38/38 - 1s - loss: 0.0018 - 1s/epoch - 30ms/step\n",
      "Epoch 82/100\n",
      "38/38 - 1s - loss: 0.0018 - 1s/epoch - 34ms/step\n",
      "Epoch 83/100\n",
      "38/38 - 1s - loss: 0.0016 - 1s/epoch - 30ms/step\n",
      "Epoch 84/100\n",
      "38/38 - 2s - loss: 0.0017 - 2s/epoch - 40ms/step\n",
      "Epoch 85/100\n",
      "38/38 - 1s - loss: 0.0016 - 1s/epoch - 37ms/step\n",
      "Epoch 86/100\n",
      "38/38 - 1s - loss: 0.0015 - 773ms/epoch - 20ms/step\n",
      "Epoch 87/100\n",
      "38/38 - 1s - loss: 0.0017 - 752ms/epoch - 20ms/step\n",
      "Epoch 88/100\n",
      "38/38 - 1s - loss: 0.0016 - 1s/epoch - 27ms/step\n",
      "Epoch 89/100\n",
      "38/38 - 1s - loss: 0.0016 - 1s/epoch - 31ms/step\n",
      "Epoch 90/100\n",
      "38/38 - 1s - loss: 0.0015 - 1s/epoch - 35ms/step\n",
      "Epoch 91/100\n",
      "38/38 - 1s - loss: 0.0016 - 1s/epoch - 30ms/step\n",
      "Epoch 92/100\n",
      "38/38 - 1s - loss: 0.0014 - 1s/epoch - 30ms/step\n",
      "Epoch 93/100\n",
      "38/38 - 1s - loss: 0.0015 - 1s/epoch - 30ms/step\n",
      "Epoch 94/100\n",
      "38/38 - 1s - loss: 0.0016 - 1s/epoch - 29ms/step\n",
      "Epoch 95/100\n",
      "38/38 - 1s - loss: 0.0017 - 1s/epoch - 30ms/step\n",
      "Epoch 96/100\n",
      "38/38 - 1s - loss: 0.0016 - 1s/epoch - 31ms/step\n",
      "Epoch 97/100\n",
      "38/38 - 1s - loss: 0.0018 - 1s/epoch - 30ms/step\n",
      "Epoch 98/100\n",
      "38/38 - 1s - loss: 0.0014 - 1s/epoch - 31ms/step\n",
      "Epoch 99/100\n",
      "38/38 - 1s - loss: 0.0013 - 1s/epoch - 31ms/step\n",
      "Epoch 100/100\n",
      "38/38 - 1s - loss: 0.0013 - 1s/epoch - 31ms/step\n"
     ]
    },
    {
     "data": {
      "text/plain": [
       "<keras.callbacks.History at 0x22cbf44d160>"
      ]
     },
     "execution_count": 9,
     "metadata": {},
     "output_type": "execute_result"
    }
   ],
   "source": [
    "regressor.fit(X_train, y_train, batch_size=32, epochs=100, verbose=2)"
   ]
  },
  {
   "cell_type": "code",
   "execution_count": 10,
   "metadata": {},
   "outputs": [],
   "source": [
    "dataset_test = pd.read_csv('d:/jupyter/datasets/Google_Stock_Price_Test.csv')\n",
    "real_stock_price = dataset_test.iloc[:, 1:2].values"
   ]
  },
  {
   "cell_type": "code",
   "execution_count": 11,
   "metadata": {},
   "outputs": [],
   "source": [
    "dataset_total = pd.concat(\n",
    "    (dataset_train['Open'], dataset_test['Open']), axis=0)\n",
    "inputs = dataset_total[len(dataset_total) - len(dataset_test) - 60:].values\n",
    "inputs = inputs.reshape(-1, 1)\n",
    "inputs = sc.transform(inputs)\n",
    "X_test = []\n",
    "for i in range(60, 80):\n",
    "    X_test.append(inputs[i-60:i, 0])\n",
    "X_test = np.array(X_test)\n",
    "X_test = np.reshape(X_test, (X_test.shape[0], X_test.shape[1], 1))\n",
    "predicted_stock_price = regressor.predict(X_test)\n",
    "predicted_stock_price = sc.inverse_transform(predicted_stock_price)\n"
   ]
  },
  {
   "cell_type": "code",
   "execution_count": 12,
   "metadata": {},
   "outputs": [
    {
     "data": {
      "image/png": "[encoded data removed]",
      "text/plain": [
       "<Figure size 432x288 with 1 Axes>"
      ]
     },
     "metadata": {
      "needs_background": "light"
     },
     "output_type": "display_data"
    }
   ],
   "source": [
    "plt.plot(real_stock_price, color = 'red', label = 'Real Google Stock Price')\n",
    "plt.plot(predicted_stock_price, color = 'blue', label = 'Predicted Google Stock Price')\n",
    "plt.title('Google Stock Price Prediction')\n",
    "plt.xlabel('Time')\n",
    "plt.ylabel('Google Stock Price')\n",
    "plt.legend()\n",
    "plt.show()"
   ]
  }
 ],
 "metadata": {
  "interpreter": {
   "hash": "915239b2a62684a5a3e4e607407e5d5a9c1dbac6ab3d1309d0fc17d05690facd"
  },
  "kernelspec": {
   "display_name": "Python 3.9.7 64-bit ('flask': conda)",
   "language": "python",
   "name": "python3"
  },
  "language_info": {
   "codemirror_mode": {
    "name": "ipython",
    "version": 3
   },
   "file_extension": ".py",
   "mimetype": "text/x-python",
   "name": "python",
   "nbconvert_exporter": "python",
   "pygments_lexer": "ipython3",
   "version": "3.9.7"
  },
  "orig_nbformat": 4
 },
 "nbformat": 4,
 "nbformat_minor": 2
}
